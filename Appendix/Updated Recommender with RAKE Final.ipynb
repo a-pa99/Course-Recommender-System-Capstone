{
 "cells": [
  {
   "cell_type": "code",
   "execution_count": 2,
   "id": "7fdd86e0",
   "metadata": {},
   "outputs": [
    {
     "name": "stdout",
     "output_type": "stream",
     "text": [
      "Python 3.9.7\r\n"
     ]
    }
   ],
   "source": [
    "#check python version\n",
    "!python --version"
   ]
  },
  {
   "cell_type": "code",
   "execution_count": 3,
   "id": "cc5dec8b",
   "metadata": {},
   "outputs": [],
   "source": [
    "#import all necessary packages\n",
    "import pandas as pd\n",
    "import numpy as np\n",
    "import sklearn\n",
    "from sklearn.feature_extraction.text import TfidfVectorizer\n",
    "from sklearn.metrics.pairwise import cosine_similarity\n",
    "import re\n",
    "import time"
   ]
  },
  {
   "cell_type": "code",
   "execution_count": 5,
   "id": "ad2e15a6",
   "metadata": {},
   "outputs": [],
   "source": [
    "#read in udemy_df\n",
    "udemy_df = pd.read_csv('udemy_master_df.csv', usecols = ['Title', 'Summary'])"
   ]
  },
  {
   "cell_type": "code",
   "execution_count": 6,
   "id": "3025e4fd",
   "metadata": {},
   "outputs": [],
   "source": [
    "#remove all null values\n",
    "udemy_df = udemy_df[udemy_df['Summary'].notna()]"
   ]
  },
  {
   "cell_type": "code",
   "execution_count": 8,
   "id": "58fcac73",
   "metadata": {},
   "outputs": [],
   "source": [
    "#create a copy of the udemy_df \n",
    "course_df = udemy_df.copy()"
   ]
  },
  {
   "cell_type": "code",
   "execution_count": 9,
   "id": "61ac572c",
   "metadata": {},
   "outputs": [
    {
     "data": {
      "text/plain": [
       "Title      0\n",
       "Summary    0\n",
       "dtype: int64"
      ]
     },
     "execution_count": 9,
     "metadata": {},
     "output_type": "execute_result"
    }
   ],
   "source": [
    "#check to make sure all null values have been removed\n",
    "course_df.isnull().sum()"
   ]
  },
  {
   "cell_type": "code",
   "execution_count": 11,
   "id": "439d759f",
   "metadata": {},
   "outputs": [],
   "source": [
    "#drop all duplicated values\n",
    "course_df  = course_df.drop_duplicates()"
   ]
  },
  {
   "cell_type": "code",
   "execution_count": 12,
   "id": "56385c14",
   "metadata": {},
   "outputs": [],
   "source": [
    "#remove all non-ascii characters from the dataset\n",
    "course_df = course_df[course_df['Summary'].map(lambda x: x.isascii())]"
   ]
  },
  {
   "cell_type": "code",
   "execution_count": 13,
   "id": "4a1de514",
   "metadata": {},
   "outputs": [],
   "source": [
    "#make all descriptions and titles lowercase.\n",
    "course_df = course_df.apply(lambda x: x.str.lower())\n",
    "job_df = job_df.apply(lambda x: x.str.lower())"
   ]
  },
  {
   "cell_type": "code",
   "execution_count": 14,
   "id": "1ba9677d",
   "metadata": {},
   "outputs": [],
   "source": [
    "#A contractions dictionary from Wikipedia found on Stack Overflow for expanding contractions: \n",
    "#https://stackoverflow.com/questions/19790188/expanding-english-language-contractions-in-python\n",
    "contractions_dict = { \n",
    "\"ain't\": \"am not / are not / is not / has not / have not\",\n",
    "\"aren't\": \"are not / am not\",\n",
    "\"can't\": \"cannot\",\n",
    "\"can't've\": \"cannot have\",\n",
    "\"'cause\": \"because\",\n",
    "\"could've\": \"could have\",\n",
    "\"couldn't\": \"could not\",\n",
    "\"couldn't've\": \"could not have\",\n",
    "\"didn't\": \"did not\",\n",
    "\"doesn't\": \"does not\",\n",
    "\"don't\": \"do not\",\n",
    "\"hadn't\": \"had not\",\n",
    "\"hadn't've\": \"had not have\",\n",
    "\"hasn't\": \"has not\",\n",
    "\"haven't\": \"have not\",\n",
    "\"he'd\": \"he had / he would\",\n",
    "\"he'd've\": \"he would have\",\n",
    "\"he'll\": \"he shall / he will\",\n",
    "\"he'll've\": \"he shall have / he will have\",\n",
    "\"he's\": \"he has / he is\",\n",
    "\"how'd\": \"how did\",\n",
    "\"how'd'y\": \"how do you\",\n",
    "\"how'll\": \"how will\",\n",
    "\"how's\": \"how has / how is / how does\",\n",
    "\"I'd\": \"I had / I would\",\n",
    "\"I'd've\": \"I would have\",\n",
    "\"I'll\": \"I shall / I will\",\n",
    "\"I'll've\": \"I shall have / I will have\",\n",
    "\"I'm\": \"I am\",\n",
    "\"I've\": \"I have\",\n",
    "\"isn't\": \"is not\",\n",
    "\"it'd\": \"it had / it would\",\n",
    "\"it'd've\": \"it would have\",\n",
    "\"it'll\": \"it shall / it will\",\n",
    "\"it'll've\": \"it shall have / it will have\",\n",
    "\"it's\": \"it has / it is\",\n",
    "\"let's\": \"let us\",\n",
    "\"ma'am\": \"madam\",\n",
    "\"mayn't\": \"may not\",\n",
    "\"might've\": \"might have\",\n",
    "\"mightn't\": \"might not\",\n",
    "\"mightn't've\": \"might not have\",\n",
    "\"must've\": \"must have\",\n",
    "\"mustn't\": \"must not\",\n",
    "\"mustn't've\": \"must not have\",\n",
    "\"needn't\": \"need not\",\n",
    "\"needn't've\": \"need not have\",\n",
    "\"o'clock\": \"of the clock\",\n",
    "\"oughtn't\": \"ought not\",\n",
    "\"oughtn't've\": \"ought not have\",\n",
    "\"shan't\": \"shall not\",\n",
    "\"sha'n't\": \"shall not\",\n",
    "\"shan't've\": \"shall not have\",\n",
    "\"she'd\": \"she had / she would\",\n",
    "\"she'd've\": \"she would have\",\n",
    "\"she'll\": \"she shall / she will\",\n",
    "\"she'll've\": \"she shall have / she will have\",\n",
    "\"she's\": \"she has / she is\",\n",
    "\"should've\": \"should have\",\n",
    "\"shouldn't\": \"should not\",\n",
    "\"shouldn't've\": \"should not have\",\n",
    "\"so've\": \"so have\",\n",
    "\"so's\": \"so as / so is\",\n",
    "\"that'd\": \"that would / that had\",\n",
    "\"that'd've\": \"that would have\",\n",
    "\"that's\": \"that has / that is\",\n",
    "\"there'd\": \"there had / there would\",\n",
    "\"there'd've\": \"there would have\",\n",
    "\"there's\": \"there has / there is\",\n",
    "\"they'd\": \"they had / they would\",\n",
    "\"they'd've\": \"they would have\",\n",
    "\"they'll\": \"they shall / they will\",\n",
    "\"they'll've\": \"they shall have / they will have\",\n",
    "\"they're\": \"they are\",\n",
    "\"they've\": \"they have\",\n",
    "\"to've\": \"to have\",\n",
    "\"wasn't\": \"was not\",\n",
    "\"we'd\": \"we had / we would\",\n",
    "\"we'd've\": \"we would have\",\n",
    "\"we'll\": \"we will\",\n",
    "\"we'll've\": \"we will have\",\n",
    "\"we're\": \"we are\",\n",
    "\"we've\": \"we have\",\n",
    "\"weren't\": \"were not\",\n",
    "\"what'll\": \"what shall / what will\",\n",
    "\"what'll've\": \"what shall have / what will have\",\n",
    "\"what're\": \"what are\",\n",
    "\"what's\": \"what has / what is\",\n",
    "\"what've\": \"what have\",\n",
    "\"when's\": \"when has / when is\",\n",
    "\"when've\": \"when have\",\n",
    "\"where'd\": \"where did\",\n",
    "\"where's\": \"where has / where is\",\n",
    "\"where've\": \"where have\",\n",
    "\"who'll\": \"who shall / who will\",\n",
    "\"who'll've\": \"who shall have / who will have\",\n",
    "\"who's\": \"who has / who is\",\n",
    "\"who've\": \"who have\",\n",
    "\"why's\": \"why has / why is\",\n",
    "\"why've\": \"why have\",\n",
    "\"will've\": \"will have\",\n",
    "\"won't\": \"will not\",\n",
    "\"won't've\": \"will not have\",\n",
    "\"would've\": \"would have\",\n",
    "\"wouldn't\": \"would not\",\n",
    "\"wouldn't've\": \"would not have\",\n",
    "\"y'all\": \"you all\",\n",
    "\"y'all'd\": \"you all would\",\n",
    "\"y'all'd've\": \"you all would have\",\n",
    "\"y'all're\": \"you all are\",\n",
    "\"y'all've\": \"you all have\",\n",
    "\"you'd\": \"you had / you would\",\n",
    "\"you'd've\": \"you would have\",\n",
    "\"you'll\": \"you shall / you will\",\n",
    "\"you'll've\": \"you shall have / you will have\",\n",
    "\"you're\": \"you are\",\n",
    "\"you've\": \"you have\"\n",
    "}"
   ]
  },
  {
   "cell_type": "code",
   "execution_count": 15,
   "id": "33c053fb",
   "metadata": {},
   "outputs": [],
   "source": [
    "#This code is code to expand contractions in text created by Abhishek Sharma:\n",
    "#https://www.analyticsvidhya.com/blog/2020/04/beginners-guide-exploratory-data-analysis-text-data/\n",
    "\n",
    "#Regular expression for finding contractions\n",
    "contractions_re=re.compile('(%s)' % '|'.join(contractions_dict.keys()))\n",
    "\n",
    "#Function for expanding contractions\n",
    "def expand_contractions(text,contractions_dict=contractions_dict):\n",
    "    def replace(match):\n",
    "        return contractions_dict[match.group(0)]\n",
    "    return contractions_re.sub(replace, text)\n",
    "\n",
    "# Expanding Contractions in the reviews and titles for course_df; job_df doesn't include any contractions\n",
    "course_df['Summary']= course_df['Summary'].apply(lambda x:expand_contractions(x))\n",
    "course_df['Title']= course_df['Title'].apply(lambda x:expand_contractions(x))"
   ]
  },
  {
   "cell_type": "code",
   "execution_count": 16,
   "id": "5cf351dd",
   "metadata": {},
   "outputs": [],
   "source": [
    "#import rake for keyword extraction\n",
    "from rake_nltk import Rake"
   ]
  },
  {
   "cell_type": "code",
   "execution_count": 17,
   "id": "df4da889",
   "metadata": {},
   "outputs": [],
   "source": [
    "#create an empty column for the keywords\n",
    "course_df['keywords'] = ''"
   ]
  },
  {
   "cell_type": "code",
   "execution_count": 18,
   "id": "3be47c7c",
   "metadata": {},
   "outputs": [
    {
     "name": "stdout",
     "output_type": "stream",
     "text": [
      "Time takes to extract keywords:  0.44  mins\n"
     ]
    }
   ],
   "source": [
    "#Loop across all rows to extract all keywords from Summary\n",
    "start_time = time.time()\n",
    "\n",
    "for index, row in course_df.iterrows():\n",
    "    summary = row['Summary']\n",
    "    \n",
    "    #instantiating Rake by default it uses English stopwords from NLTK and discards all punctuation chars\n",
    "    r = Rake()\n",
    "    \n",
    "    #extract words by passing the text\n",
    "    r.extract_keywords_from_text(summary)\n",
    "    \n",
    "    #get the dictionary with key words and their scores\n",
    "    keyword_dict_scores = r.get_word_degrees()\n",
    "    \n",
    "    #assign keywords to new columns\n",
    "    row['keywords'] = list(keyword_dict_scores.keys())\n",
    "    \n",
    "print(\"Time takes to extract keywords: \", round((time.time() - start_time)/60, 2), \" mins\")"
   ]
  },
  {
   "cell_type": "code",
   "execution_count": 19,
   "id": "6f683245",
   "metadata": {},
   "outputs": [
    {
     "data": {
      "text/html": [
       "<div>\n",
       "<style scoped>\n",
       "    .dataframe tbody tr th:only-of-type {\n",
       "        vertical-align: middle;\n",
       "    }\n",
       "\n",
       "    .dataframe tbody tr th {\n",
       "        vertical-align: top;\n",
       "    }\n",
       "\n",
       "    .dataframe thead th {\n",
       "        text-align: right;\n",
       "    }\n",
       "</style>\n",
       "<table border=\"1\" class=\"dataframe\">\n",
       "  <thead>\n",
       "    <tr style=\"text-align: right;\">\n",
       "      <th></th>\n",
       "      <th>Title</th>\n",
       "      <th>Summary</th>\n",
       "      <th>keywords</th>\n",
       "    </tr>\n",
       "  </thead>\n",
       "  <tbody>\n",
       "    <tr>\n",
       "      <th>0</th>\n",
       "      <td>the complete sql bootcamp 2020: go from zero t...</td>\n",
       "      <td>become an expert at sql!</td>\n",
       "      <td>[become, expert, sql]</td>\n",
       "    </tr>\n",
       "    <tr>\n",
       "      <th>1</th>\n",
       "      <td>tableau 2020 a-z: hands-on tableau training fo...</td>\n",
       "      <td>learn tableau 2020 for data science step by st...</td>\n",
       "      <td>[learn, tableau, 2020, data, science, step, re...</td>\n",
       "    </tr>\n",
       "    <tr>\n",
       "      <th>2</th>\n",
       "      <td>pmp exam prep seminar - pmbok guide 6</td>\n",
       "      <td>pmp exam prep seminar - earn 35 pdus by comple...</td>\n",
       "      <td>[pmp, exam, prep, seminar, earn, 35, pdus, com...</td>\n",
       "    </tr>\n",
       "    <tr>\n",
       "      <th>3</th>\n",
       "      <td>the complete financial analyst course 2020</td>\n",
       "      <td>excel, accounting, financial statement analysi...</td>\n",
       "      <td>[excel, accounting, financial, statement, anal...</td>\n",
       "    </tr>\n",
       "    <tr>\n",
       "      <th>4</th>\n",
       "      <td>an entire mba in 1 course:award winning busine...</td>\n",
       "      <td>** #1 best selling business course! ** everyth...</td>\n",
       "      <td>[**, 1, best, selling, business, course, every...</td>\n",
       "    </tr>\n",
       "  </tbody>\n",
       "</table>\n",
       "</div>"
      ],
      "text/plain": [
       "                                               Title  \\\n",
       "0  the complete sql bootcamp 2020: go from zero t...   \n",
       "1  tableau 2020 a-z: hands-on tableau training fo...   \n",
       "2              pmp exam prep seminar - pmbok guide 6   \n",
       "3         the complete financial analyst course 2020   \n",
       "4  an entire mba in 1 course:award winning busine...   \n",
       "\n",
       "                                             Summary  \\\n",
       "0                           become an expert at sql!   \n",
       "1  learn tableau 2020 for data science step by st...   \n",
       "2  pmp exam prep seminar - earn 35 pdus by comple...   \n",
       "3  excel, accounting, financial statement analysi...   \n",
       "4  ** #1 best selling business course! ** everyth...   \n",
       "\n",
       "                                            keywords  \n",
       "0                              [become, expert, sql]  \n",
       "1  [learn, tableau, 2020, data, science, step, re...  \n",
       "2  [pmp, exam, prep, seminar, earn, 35, pdus, com...  \n",
       "3  [excel, accounting, financial, statement, anal...  \n",
       "4  [**, 1, best, selling, business, course, every...  "
      ]
     },
     "execution_count": 19,
     "metadata": {},
     "output_type": "execute_result"
    }
   ],
   "source": [
    "#let's see if RAKE extracted our keywords\n",
    "course_df.head()"
   ]
  },
  {
   "cell_type": "code",
   "execution_count": 20,
   "id": "b90b7ec2",
   "metadata": {},
   "outputs": [],
   "source": [
    "#import cosine similarity and countvectorizer\n",
    "from sklearn.metrics.pairwise import cosine_similarity\n",
    "from sklearn.feature_extraction.text import CountVectorizer"
   ]
  },
  {
   "cell_type": "code",
   "execution_count": 21,
   "id": "7dc0ac80",
   "metadata": {},
   "outputs": [],
   "source": [
    "#create word vectors from course_df using countvectorizer \n",
    "count = CountVectorizer(max_df = 0.7,\n",
    "                        max_features = 10000,\n",
    "                        ngram_range = (1,3),\n",
    "                        lowercase = False,\n",
    "                        tokenizer= lambda i:i,\n",
    "                       )\n",
    "count_matrix = count.fit_transform(course_df['keywords'])\n",
    "\n",
    "countvec_df = pd.DataFrame(count_matrix.toarray(), columns= count.get_feature_names())\n",
    "\n",
    "countvec_df.index = course_df['Title']"
   ]
  },
  {
   "cell_type": "code",
   "execution_count": 23,
   "id": "024839a6",
   "metadata": {},
   "outputs": [
    {
     "name": "stdout",
     "output_type": "stream",
     "text": [
      "Time takes to make cosine_similarity_df:  3.05  mins\n"
     ]
    }
   ],
   "source": [
    "#get similarity between courses, and create a cosine similarity df for recommender use\n",
    "start_time = time.time()\n",
    "\n",
    "cosine_similarity_array = cosine_similarity(countvec_df)\n",
    "\n",
    "cosine_similarity_df = pd.DataFrame(cosine_similarity_array, columns=countvec_df.index, index=countvec_df.index)\n",
    "\n",
    "print(\"Time takes to make cosine_similarity_df: \", round((time.time() - start_time)/60, 2), \" mins\")"
   ]
  },
  {
   "cell_type": "code",
   "execution_count": 24,
   "id": "bb7e3d36",
   "metadata": {},
   "outputs": [],
   "source": [
    "#vectorize summary data for cosine similarity comparison against keywords\n",
    "count2= CountVectorizer(\n",
    "                        ngram_range = (1,3),\n",
    "                        lowercase = False,\n",
    "                       )\n",
    "\n",
    "vectorized_data = count2.fit_transform(course_df['Summary'])"
   ]
  },
  {
   "cell_type": "code",
   "execution_count": 26,
   "id": "a5d8e630",
   "metadata": {},
   "outputs": [],
   "source": [
    "#import functools to add a caching system to the recommender\n",
    "import functools\n",
    "\n",
    "@functools.lru_cache(maxsize=128)\n",
    "def recommender(job_name,num):\n",
    "    #create a vector of the inputted job title using the vector from above.\n",
    "    query_vec = count2.transform([job_name])\n",
    "    \n",
    "    # calculate similarity with vectorized course summary\n",
    "    similarity = cosine_similarity(query_vec, vectorized_data).flatten() \n",
    "    \n",
    "    #create partitions in the data to make prediction faster\n",
    "    indices = np.argpartition(similarity, -1)[-5:]\n",
    "    \n",
    "    #grab all course names that have similarity scores for the given job title\n",
    "    course_name = course_df.iloc[indices][::-1]['Title'].values[0]\n",
    "    \n",
    "    #grab all matches to course names in cosine_similarity df\n",
    "    cosine_similarity_series = cosine_similarity_df.loc[course_name]\n",
    "    \n",
    "    #order values in descending order\n",
    "    ordered_similarities = cosine_similarity_series.sort_values(ascending=False)\n",
    "    \n",
    "    #take the top num of values in descending order\n",
    "    course_list = ordered_similarities[0:num]\n",
    "    \n",
    "    return course_list"
   ]
  },
  {
   "cell_type": "code",
   "execution_count": 27,
   "id": "33a8cb5b",
   "metadata": {},
   "outputs": [
    {
     "name": "stdout",
     "output_type": "stream",
     "text": [
      "Title\n",
      "the complete express.js developer course & create two sites    1.000000\n",
      "backend development with php and perl                          0.516398\n",
      "google kubernetes engine (gke) - a beginner's guide            0.516398\n",
      "azure solution architect certification- az 300                 0.516398\n",
      "learn how to assemble and paint beautiful miniatures           0.516398\n",
      "Name: the complete express.js developer course & create two sites, dtype: float64\n",
      "Time takes recommender to recommend:  0.0  mins\n"
     ]
    }
   ],
   "source": [
    "start_time = time.time()\n",
    "print(recommender('Registered Nurse', 5))\n",
    "print(\"Time takes recommender to recommend: \", round((time.time() - start_time)/60, 2), \" mins\")"
   ]
  },
  {
   "cell_type": "code",
   "execution_count": 28,
   "id": "a60249cc",
   "metadata": {},
   "outputs": [
    {
     "name": "stdout",
     "output_type": "stream",
     "text": [
      "Title\n",
      "the complete express.js developer course & create two sites    1.000000\n",
      "backend development with php and perl                          0.516398\n",
      "google kubernetes engine (gke) - a beginner's guide            0.516398\n",
      "azure solution architect certification- az 300                 0.516398\n",
      "learn how to assemble and paint beautiful miniatures           0.516398\n",
      "Name: the complete express.js developer course & create two sites, dtype: float64\n",
      "Time takes recommender to recommend:  0.0  mins\n"
     ]
    }
   ],
   "source": [
    "start_time = time.time()\n",
    "print(recommender('Translator', 5))\n",
    "print(\"Time takes recommender to recommend: \", round((time.time() - start_time)/60, 2), \" mins\")"
   ]
  },
  {
   "cell_type": "code",
   "execution_count": 29,
   "id": "846cab6a",
   "metadata": {},
   "outputs": [
    {
     "name": "stdout",
     "output_type": "stream",
     "text": [
      "Title\n",
      "the complete express.js developer course & create two sites    1.000000\n",
      "backend development with php and perl                          0.516398\n",
      "google kubernetes engine (gke) - a beginner's guide            0.516398\n",
      "azure solution architect certification- az 300                 0.516398\n",
      "learn how to assemble and paint beautiful miniatures           0.516398\n",
      "Name: the complete express.js developer course & create two sites, dtype: float64\n",
      "Time takes recommender to recommend:  0.0  mins\n"
     ]
    }
   ],
   "source": [
    "start_time = time.time()\n",
    "print(recommender('Software Engineer', 5))\n",
    "print(\"Time takes recommender to recommend: \", round((time.time() - start_time)/60, 2), \" mins\")"
   ]
  },
  {
   "cell_type": "code",
   "execution_count": 30,
   "id": "bfc36936",
   "metadata": {},
   "outputs": [
    {
     "name": "stdout",
     "output_type": "stream",
     "text": [
      "Title\n",
      "the complete express.js developer course & create two sites    1.000000\n",
      "backend development with php and perl                          0.516398\n",
      "google kubernetes engine (gke) - a beginner's guide            0.516398\n",
      "azure solution architect certification- az 300                 0.516398\n",
      "learn how to assemble and paint beautiful miniatures           0.516398\n",
      "Name: the complete express.js developer course & create two sites, dtype: float64\n",
      "Time takes recommender to recommend:  0.0  mins\n"
     ]
    }
   ],
   "source": [
    "start_time = time.time()\n",
    "print(recommender('Driver', 5))\n",
    "print(\"Time takes recommender to recommend: \", round((time.time() - start_time)/60, 2), \" mins\")"
   ]
  },
  {
   "cell_type": "code",
   "execution_count": 31,
   "id": "3a219c04",
   "metadata": {},
   "outputs": [
    {
     "name": "stdout",
     "output_type": "stream",
     "text": [
      "Title\n",
      "the complete express.js developer course & create two sites    1.000000\n",
      "backend development with php and perl                          0.516398\n",
      "google kubernetes engine (gke) - a beginner's guide            0.516398\n",
      "azure solution architect certification- az 300                 0.516398\n",
      "learn how to assemble and paint beautiful miniatures           0.516398\n",
      "Name: the complete express.js developer course & create two sites, dtype: float64\n",
      "Time takes recommender to recommend:  0.0  mins\n"
     ]
    }
   ],
   "source": [
    "start_time = time.time()\n",
    "print(recommender('Retail Salesperson', 5))\n",
    "print(\"Time takes recommender to recommend: \", round((time.time() - start_time)/60, 2), \" mins\")"
   ]
  },
  {
   "cell_type": "code",
   "execution_count": 32,
   "id": "3db881a0",
   "metadata": {},
   "outputs": [
    {
     "name": "stdout",
     "output_type": "stream",
     "text": [
      "Title\n",
      "the complete express.js developer course & create two sites    1.000000\n",
      "backend development with php and perl                          0.516398\n",
      "google kubernetes engine (gke) - a beginner's guide            0.516398\n",
      "azure solution architect certification- az 300                 0.516398\n",
      "learn how to assemble and paint beautiful miniatures           0.516398\n",
      "Name: the complete express.js developer course & create two sites, dtype: float64\n",
      "Time takes recommender to recommend:  0.0  mins\n"
     ]
    }
   ],
   "source": [
    "start_time = time.time()\n",
    "print(recommender('Project Manager', 5))\n",
    "print(\"Time takes recommender to recommend: \", round((time.time() - start_time)/60, 2), \" mins\")"
   ]
  },
  {
   "cell_type": "code",
   "execution_count": 33,
   "id": "9ec6f238",
   "metadata": {},
   "outputs": [
    {
     "name": "stdout",
     "output_type": "stream",
     "text": [
      "Title\n",
      "the complete express.js developer course & create two sites    1.000000\n",
      "backend development with php and perl                          0.516398\n",
      "google kubernetes engine (gke) - a beginner's guide            0.516398\n",
      "azure solution architect certification- az 300                 0.516398\n",
      "learn how to assemble and paint beautiful miniatures           0.516398\n",
      "Name: the complete express.js developer course & create two sites, dtype: float64\n",
      "Time takes recommender to recommend:  0.0  mins\n"
     ]
    }
   ],
   "source": [
    "start_time = time.time()\n",
    "print(recommender('DevOps Engineer', 5))\n",
    "print(\"Time takes recommender to recommend: \", round((time.time() - start_time)/60, 2), \" mins\")"
   ]
  },
  {
   "cell_type": "code",
   "execution_count": 34,
   "id": "69fad75d",
   "metadata": {},
   "outputs": [
    {
     "name": "stdout",
     "output_type": "stream",
     "text": [
      "Title\n",
      "the complete express.js developer course & create two sites    1.000000\n",
      "backend development with php and perl                          0.516398\n",
      "google kubernetes engine (gke) - a beginner's guide            0.516398\n",
      "azure solution architect certification- az 300                 0.516398\n",
      "learn how to assemble and paint beautiful miniatures           0.516398\n",
      "Name: the complete express.js developer course & create two sites, dtype: float64\n",
      "Time takes recommender to recommend:  0.0  mins\n"
     ]
    }
   ],
   "source": [
    "start_time = time.time()\n",
    "print(recommender('Warehouse Associate', 5))\n",
    "print(\"Time takes recommender to recommend: \", round((time.time() - start_time)/60, 2), \" mins\")"
   ]
  },
  {
   "cell_type": "code",
   "execution_count": 35,
   "id": "462e28be",
   "metadata": {},
   "outputs": [
    {
     "name": "stdout",
     "output_type": "stream",
     "text": [
      "Title\n",
      "the complete express.js developer course & create two sites    1.000000\n",
      "backend development with php and perl                          0.516398\n",
      "google kubernetes engine (gke) - a beginner's guide            0.516398\n",
      "azure solution architect certification- az 300                 0.516398\n",
      "learn how to assemble and paint beautiful miniatures           0.516398\n",
      "Name: the complete express.js developer course & create two sites, dtype: float64\n",
      "Time takes recommender to recommend:  0.0  mins\n"
     ]
    }
   ],
   "source": [
    "start_time = time.time()\n",
    "print(recommender('Cashier', 5))\n",
    "print(\"Time takes recommender to recommend: \", round((time.time() - start_time)/60, 2), \" mins\")"
   ]
  },
  {
   "cell_type": "code",
   "execution_count": 36,
   "id": "81db7b64",
   "metadata": {},
   "outputs": [
    {
     "name": "stdout",
     "output_type": "stream",
     "text": [
      "Title\n",
      "the complete express.js developer course & create two sites    1.000000\n",
      "backend development with php and perl                          0.516398\n",
      "google kubernetes engine (gke) - a beginner's guide            0.516398\n",
      "azure solution architect certification- az 300                 0.516398\n",
      "learn how to assemble and paint beautiful miniatures           0.516398\n",
      "Name: the complete express.js developer course & create two sites, dtype: float64\n",
      "Time takes recommender to recommend:  0.0  mins\n"
     ]
    }
   ],
   "source": [
    "start_time = time.time()\n",
    "print(recommender('Customer Service Representation', 5))\n",
    "print(\"Time takes recommender to recommend: \", round((time.time() - start_time)/60, 2), \" mins\")"
   ]
  },
  {
   "cell_type": "code",
   "execution_count": 51,
   "id": "50241f10",
   "metadata": {},
   "outputs": [
    {
     "data": {
      "text/plain": [
       "Title\n",
       "the complete express.js developer course & create two sites    1.000000\n",
       "backend development with php and perl                          0.516398\n",
       "google kubernetes engine (gke) - a beginner's guide            0.516398\n",
       "azure solution architect certification- az 300                 0.516398\n",
       "learn how to assemble and paint beautiful miniatures           0.516398\n",
       "Name: the complete express.js developer course & create two sites, dtype: float64"
      ]
     },
     "execution_count": 51,
     "metadata": {},
     "output_type": "execute_result"
    }
   ],
   "source": [
    "recommender('Data Science', 5)"
   ]
  },
  {
   "cell_type": "code",
   "execution_count": 52,
   "id": "f010486d",
   "metadata": {},
   "outputs": [
    {
     "data": {
      "text/plain": [
       "Title\n",
       "the complete express.js developer course & create two sites    1.000000\n",
       "backend development with php and perl                          0.516398\n",
       "google kubernetes engine (gke) - a beginner's guide            0.516398\n",
       "azure solution architect certification- az 300                 0.516398\n",
       "learn how to assemble and paint beautiful miniatures           0.516398\n",
       "Name: the complete express.js developer course & create two sites, dtype: float64"
      ]
     },
     "execution_count": 52,
     "metadata": {},
     "output_type": "execute_result"
    }
   ],
   "source": [
    "recommender('Administrative Assistant', 5)"
   ]
  }
 ],
 "metadata": {
  "kernelspec": {
   "display_name": "Python 3 (ipykernel)",
   "language": "python",
   "name": "python3"
  },
  "language_info": {
   "codemirror_mode": {
    "name": "ipython",
    "version": 3
   },
   "file_extension": ".py",
   "mimetype": "text/x-python",
   "name": "python",
   "nbconvert_exporter": "python",
   "pygments_lexer": "ipython3",
   "version": "3.9.12"
  }
 },
 "nbformat": 4,
 "nbformat_minor": 5
}
